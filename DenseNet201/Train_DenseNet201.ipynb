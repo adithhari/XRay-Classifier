{
 "cells": [
  {
   "cell_type": "markdown",
   "metadata": {},
   "source": [
    "# Pneumonia Classifier - DenseNet201"
   ]
  },
  {
   "cell_type": "code",
   "execution_count": 10,
   "metadata": {},
   "outputs": [
    {
     "name": "stdout",
     "output_type": "stream",
     "text": [
      "TensorFlow version: 2.14.0\n"
     ]
    }
   ],
   "source": [
    "# Import libraries\n",
    "import os\n",
    "import numpy as np\n",
    "import pandas as pd\n",
    "import seaborn as sns\n",
    "import tensorflow as tf\n",
    "import matplotlib.pyplot as plt\n",
    "\n",
    "# Check TensorFlow version\n",
    "print(\"TensorFlow version:\", tf.__version__)"
   ]
  },
  {
   "cell_type": "code",
   "execution_count": 11,
   "metadata": {},
   "outputs": [
    {
     "name": "stdout",
     "output_type": "stream",
     "text": [
      "1 GPUs found!\n",
      "[PhysicalDevice(name='/physical_device:GPU:0', device_type='GPU')]\n"
     ]
    }
   ],
   "source": [
    "# Check if physical GPU device detected\n",
    "gpu_devices = tf.config.list_physical_devices('GPU')\n",
    "if not len(gpu_devices):\n",
    "    print('No GPUs detected!')\n",
    "else:\n",
    "    print(len(gpu_devices), 'GPUs found!')\n",
    "    print(gpu_devices)"
   ]
  },
  {
   "cell_type": "code",
   "execution_count": 12,
   "metadata": {},
   "outputs": [],
   "source": [
    "# Setup Environment\n",
    "dataset_base_dir = '../Dataset/chest_xray_resized/'\n",
    "train_data_dir = 'train'\n",
    "valid_data_dir = 'valid'\n",
    "test_data_dir = 'test'\n",
    "models_dir = './models'"
   ]
  },
  {
   "cell_type": "code",
   "execution_count": 13,
   "metadata": {},
   "outputs": [],
   "source": [
    "# Image Data Generators\n",
    "\n",
    "from tensorflow.keras.preprocessing.image import ImageDataGenerator\n",
    "\n",
    "train_datagen = image_gen = ImageDataGenerator(rotation_range=20, # rotate the image 20 degrees\n",
    "                               width_shift_range=0.05, # Shift the pic width by a max of 5%\n",
    "                               height_shift_range=0.05, # Shift the pic height by a max of 5%\n",
    "                               rescale=1/255, # Rescale the image by normalzing it.\n",
    "                               shear_range=0.1, # Shear means cutting away part of the image (max 10%)\n",
    "                               zoom_range=0.1, # Zoom in by 10% max\n",
    "                               horizontal_flip=True, # Allo horizontal flipping\n",
    "                               fill_mode='nearest' # Fill in missing pixels with the nearest filled value\n",
    "                              )\n",
    "\n",
    "test_datagen = image_gen = ImageDataGenerator(rotation_range=20, # rotate the image 20 degrees\n",
    "                               width_shift_range=0.05, # Shift the pic width by a max of 5%\n",
    "                               height_shift_range=0.05, # Shift the pic height by a max of 5%\n",
    "                               rescale=1/255, # Rescale the image by normalzing it.\n",
    "                               shear_range=0.1, # Shear means cutting away part of the image (max 10%)\n",
    "                               zoom_range=0.1, # Zoom in by 10% max\n",
    "                               horizontal_flip=True, # Allo horizontal flipping\n",
    "                               fill_mode='nearest' # Fill in missing pixels with the nearest filled value\n",
    "                              )\n",
    "\n",
    "image_shape = (224, 224, 3)\n",
    "batch_size = 32"
   ]
  },
  {
   "cell_type": "code",
   "execution_count": 14,
   "metadata": {},
   "outputs": [
    {
     "name": "stdout",
     "output_type": "stream",
     "text": [
      "Found 5216 images belonging to 2 classes.\n",
      "Found 16 images belonging to 2 classes.\n",
      "Found 624 images belonging to 2 classes.\n"
     ]
    }
   ],
   "source": [
    "# Data Flow with Augmentation\n",
    "\n",
    "train_gen = train_datagen.flow_from_directory(\n",
    "    os.path.join(dataset_base_dir, train_data_dir),\n",
    "    target_size=image_shape[:2],\n",
    "    class_mode='binary',\n",
    "    color_mode='rgb',\n",
    "    shuffle=True,\n",
    "    batch_size=batch_size\n",
    ")\n",
    "\n",
    "valid_gen = test_datagen.flow_from_directory(\n",
    "    os.path.join(dataset_base_dir, valid_data_dir), \n",
    "    target_size=image_shape[:2], \n",
    "    class_mode='binary', \n",
    "    color_mode='rgb',\n",
    "    shuffle=False,\n",
    "    batch_size=batch_size\n",
    ")\n",
    "\n",
    "test_gen = test_datagen.flow_from_directory(\n",
    "    os.path.join(dataset_base_dir, test_data_dir), \n",
    "    target_size=image_shape[:2],\n",
    "    class_mode='binary', \n",
    "    color_mode='rgb',\n",
    "    shuffle=False,\n",
    "    batch_size=batch_size\n",
    ")"
   ]
  },
  {
   "cell_type": "code",
   "execution_count": 15,
   "metadata": {},
   "outputs": [
    {
     "name": "stdout",
     "output_type": "stream",
     "text": [
      "dict_items([(0, 1341), (1, 3875)])\n"
     ]
    }
   ],
   "source": [
    "# Train Dataset Stats - IMBALANCED (DUE TO MEDICAL)\n",
    "from collections import Counter\n",
    "counter = Counter(train_gen.classes)\n",
    "print(counter.items())"
   ]
  },
  {
   "cell_type": "code",
   "execution_count": 16,
   "metadata": {},
   "outputs": [
    {
     "name": "stdout",
     "output_type": "stream",
     "text": [
      "dict_items([(0, 8), (1, 8)])\n"
     ]
    }
   ],
   "source": [
    "# Validation Dataset Stats - BALANCED\n",
    "from collections import Counter\n",
    "counter = Counter(valid_gen.classes)\n",
    "print(counter.items())"
   ]
  },
  {
   "cell_type": "code",
   "execution_count": 17,
   "metadata": {},
   "outputs": [
    {
     "name": "stdout",
     "output_type": "stream",
     "text": [
      "dict_items([(0, 234), (1, 390)])\n"
     ]
    }
   ],
   "source": [
    "# Test Dataset Stats - BALANCED\n",
    "from collections import Counter\n",
    "counter = Counter(test_gen.classes)\n",
    "print(counter.items())"
   ]
  },
  {
   "cell_type": "code",
   "execution_count": 18,
   "metadata": {},
   "outputs": [
    {
     "name": "stdout",
     "output_type": "stream",
     "text": [
      "Model: \"model\"\n",
      "_________________________________________________________________\n",
      " Layer (type)                Output Shape              Param #   \n",
      "=================================================================\n",
      " input_3 (InputLayer)        [(None, 256, 256, 3)]     0         \n",
      "                                                                 \n",
      " densenet201 (Functional)    (None, 1920)              18321984  \n",
      "                                                                 \n",
      " dense (Dense)               (None, 256)               491776    \n",
      "                                                                 \n",
      " dropout (Dropout)           (None, 256)               0         \n",
      "                                                                 \n",
      " dense_1 (Dense)             (None, 128)               32896     \n",
      "                                                                 \n",
      " dropout_1 (Dropout)         (None, 128)               0         \n",
      "                                                                 \n",
      " dense_2 (Dense)             (None, 1)                 129       \n",
      "                                                                 \n",
      "=================================================================\n",
      "Total params: 18846785 (71.89 MB)\n",
      "Trainable params: 524801 (2.00 MB)\n",
      "Non-trainable params: 18321984 (69.89 MB)\n",
      "_________________________________________________________________\n"
     ]
    }
   ],
   "source": [
    "# Architect Model\n",
    "\n",
    "from tensorflow.keras.models import Model\n",
    "from tensorflow.keras.layers import Dropout, Dense, Input\n",
    "from tensorflow.keras.applications.densenet import DenseNet201\n",
    "\n",
    "base_model = DenseNet201(include_top=False,\n",
    "                         input_shape=(256,256,3),\n",
    "                         weights='imagenet',\n",
    "                         pooling=\"avg\"\n",
    "                        )\n",
    "\n",
    "base_model.trainable = False\n",
    "image_input = Input(shape=(256, 256, 3))\n",
    "\n",
    "x = base_model(image_input,training = False)\n",
    "\n",
    "x = Dense(256,activation = \"relu\")(x)\n",
    "x = Dropout(0.2)(x)\n",
    "\n",
    "x = Dense(128,activation = \"relu\")(x)\n",
    "x = Dropout(0.2)(x)\n",
    "\n",
    "image_output = Dense(1,activation=\"sigmoid\")(x)\n",
    "\n",
    "model = Model(image_input,image_output)\n",
    "model.compile(optimizer=\"adam\",loss=\"binary_crossentropy\",metrics=[\"accuracy\"])\n",
    "model.summary()"
   ]
  },
  {
   "cell_type": "code",
   "execution_count": null,
   "metadata": {},
   "outputs": [],
   "source": [
    "from tensorflow.keras.callbacks import EarlyStopping, ModelCheckpoint, ReduceLROnPlateau\n",
    "early_stop = EarlyStopping(monitor='val_loss', patience=2, mode='auto')\n",
    "checkpoint = ModelCheckpoint(filepath='./models/dn201_bestcheckpoint.h5', monitor='accuracy', save_best_only=True)\n",
    "# learning_rate = ReduceLROnPlateau(monitor='val_loss', factor=0.5, patience=1, verbose=1)\n",
    "\n",
    "history = model.fit(train_gen, epochs=15,\n",
    "          validation_data=test_gen,\n",
    "          callbacks=[early_stop, checkpoint])"
   ]
  },
  {
   "cell_type": "code",
   "execution_count": null,
   "metadata": {},
   "outputs": [],
   "source": [
    "# Save trained model weights\n",
    "model.save(os.path.join(models_dir, 'dn201_pre.h5'))"
   ]
  },
  {
   "cell_type": "code",
   "execution_count": 19,
   "metadata": {},
   "outputs": [
    {
     "name": "stderr",
     "output_type": "stream",
     "text": [
      "2023-09-27 18:38:39.192384: I tensorflow/compiler/xla/stream_executor/cuda/cuda_dnn.cc:442] Loaded cuDNN version 8600\n"
     ]
    },
    {
     "name": "stdout",
     "output_type": "stream",
     "text": [
      "20/20 [==============================] - 21s 656ms/step - loss: 0.3757 - accuracy: 0.8478\n"
     ]
    }
   ],
   "source": [
    "# Evaluate the trained model\n",
    "model.load_weights('./models/dn201_bestcheckpoint.h5')\n",
    "eval_results = model.evaluate(test_gen)"
   ]
  },
  {
   "cell_type": "code",
   "execution_count": 20,
   "metadata": {},
   "outputs": [
    {
     "data": {
      "text/plain": [
       "{'normal': 0, 'pneumonia': 1}"
      ]
     },
     "execution_count": 20,
     "metadata": {},
     "output_type": "execute_result"
    }
   ],
   "source": [
    "# List the classes\n",
    "test_gen.class_indices"
   ]
  },
  {
   "cell_type": "code",
   "execution_count": 21,
   "metadata": {},
   "outputs": [
    {
     "name": "stdout",
     "output_type": "stream",
     "text": [
      "20/20 [==============================] - 7s 222ms/step\n"
     ]
    }
   ],
   "source": [
    "# Take predictions using test image generator\n",
    "test_dataset_prediction_probabilities = model.predict(test_gen)"
   ]
  },
  {
   "cell_type": "code",
   "execution_count": 22,
   "metadata": {},
   "outputs": [
    {
     "name": "stdout",
     "output_type": "stream",
     "text": [
      "[array([False]), array([False]), array([False]), array([False]), array([False]), array([False]), array([False]), array([False]), array([ True]), array([False]), array([False]), array([ True]), array([False]), array([False]), array([ True]), array([False]), array([ True]), array([False]), array([False]), array([False]), array([ True]), array([False]), array([False]), array([False]), array([False]), array([False]), array([False]), array([False]), array([ True]), array([False]), array([ True]), array([False]), array([False]), array([False]), array([ True]), array([False]), array([False]), array([False]), array([False]), array([False]), array([False]), array([False]), array([False]), array([False]), array([False]), array([ True]), array([ True]), array([False]), array([ True]), array([False]), array([False]), array([False]), array([False]), array([False]), array([False]), array([False]), array([ True]), array([False]), array([False]), array([False]), array([False]), array([ True]), array([False]), array([False]), array([False]), array([False]), array([ True]), array([False]), array([False]), array([False]), array([False]), array([False]), array([ True]), array([False]), array([False]), array([ True]), array([False]), array([False]), array([False]), array([False]), array([False]), array([False]), array([False]), array([False]), array([False]), array([False]), array([False]), array([False]), array([False]), array([False]), array([False]), array([False]), array([False]), array([ True]), array([ True]), array([ True]), array([False]), array([ True]), array([False]), array([ True]), array([False]), array([ True]), array([False]), array([ True]), array([False]), array([False]), array([False]), array([False]), array([False]), array([False]), array([False]), array([False]), array([False]), array([ True]), array([False]), array([False]), array([ True]), array([ True]), array([False]), array([ True]), array([ True]), array([ True]), array([ True]), array([False]), array([ True]), array([False]), array([ True]), array([ True]), array([ True]), array([ True]), array([ True]), array([ True]), array([ True]), array([ True]), array([ True]), array([ True]), array([ True]), array([ True]), array([False]), array([ True]), array([ True]), array([ True]), array([ True]), array([ True]), array([ True]), array([ True]), array([ True]), array([False]), array([False]), array([False]), array([False]), array([False]), array([ True]), array([False]), array([False]), array([False]), array([False]), array([False]), array([ True]), array([ True]), array([ True]), array([False]), array([False]), array([ True]), array([False]), array([ True]), array([ True]), array([False]), array([ True]), array([False]), array([False]), array([ True]), array([ True]), array([False]), array([ True]), array([False]), array([False]), array([False]), array([False]), array([False]), array([False]), array([ True]), array([ True]), array([False]), array([False]), array([False]), array([ True]), array([False]), array([ True]), array([False]), array([ True]), array([False]), array([False]), array([ True]), array([False]), array([ True]), array([ True]), array([False]), array([False]), array([False]), array([ True]), array([False]), array([ True]), array([False]), array([False]), array([False]), array([False]), array([False]), array([False]), array([ True]), array([False]), array([False]), array([False]), array([ True]), array([False]), array([False]), array([False]), array([False]), array([False]), array([False]), array([ True]), array([ True]), array([False]), array([False]), array([False]), array([False]), array([False]), array([False]), array([ True]), array([False]), array([ True]), array([False]), array([False]), array([ True]), array([ True]), array([ True]), array([ True]), array([ True]), array([ True]), array([ True]), array([ True]), array([ True]), array([ True]), array([ True]), array([ True]), array([ True]), array([ True]), array([ True]), array([ True]), array([ True]), array([ True]), array([ True]), array([ True]), array([ True]), array([False]), array([ True]), array([ True]), array([ True]), array([ True]), array([ True]), array([ True]), array([ True]), array([ True]), array([ True]), array([ True]), array([ True]), array([ True]), array([ True]), array([ True]), array([ True]), array([ True]), array([ True]), array([ True]), array([ True]), array([ True]), array([ True]), array([ True]), array([ True]), array([ True]), array([ True]), array([ True]), array([ True]), array([ True]), array([ True]), array([ True]), array([ True]), array([ True]), array([ True]), array([False]), array([ True]), array([ True]), array([ True]), array([ True]), array([ True]), array([ True]), array([ True]), array([ True]), array([ True]), array([ True]), array([ True]), array([ True]), array([ True]), array([ True]), array([ True]), array([ True]), array([ True]), array([ True]), array([ True]), array([ True]), array([ True]), array([ True]), array([ True]), array([ True]), array([ True]), array([ True]), array([ True]), array([ True]), array([ True]), array([ True]), array([ True]), array([ True]), array([ True]), array([ True]), array([ True]), array([ True]), array([ True]), array([ True]), array([ True]), array([ True]), array([ True]), array([ True]), array([ True]), array([ True]), array([ True]), array([ True]), array([ True]), array([ True]), array([ True]), array([ True]), array([ True]), array([ True]), array([ True]), array([ True]), array([ True]), array([ True]), array([ True]), array([ True]), array([ True]), array([ True]), array([ True]), array([ True]), array([ True]), array([ True]), array([ True]), array([ True]), array([ True]), array([ True]), array([ True]), array([ True]), array([ True]), array([ True]), array([ True]), array([ True]), array([ True]), array([ True]), array([ True]), array([ True]), array([ True]), array([ True]), array([ True]), array([ True]), array([ True]), array([ True]), array([ True]), array([ True]), array([ True]), array([ True]), array([ True]), array([False]), array([ True]), array([ True]), array([ True]), array([ True]), array([ True]), array([ True]), array([ True]), array([ True]), array([ True]), array([ True]), array([ True]), array([ True]), array([False]), array([ True]), array([ True]), array([ True]), array([ True]), array([ True]), array([ True]), array([ True]), array([ True]), array([ True]), array([ True]), array([ True]), array([ True]), array([ True]), array([ True]), array([ True]), array([ True]), array([ True]), array([ True]), array([ True]), array([ True]), array([ True]), array([ True]), array([ True]), array([ True]), array([ True]), array([ True]), array([ True]), array([ True]), array([ True]), array([ True]), array([ True]), array([ True]), array([ True]), array([ True]), array([ True]), array([ True]), array([ True]), array([ True]), array([ True]), array([ True]), array([ True]), array([ True]), array([ True]), array([ True]), array([ True]), array([ True]), array([ True]), array([ True]), array([ True]), array([ True]), array([ True]), array([ True]), array([ True]), array([ True]), array([ True]), array([ True]), array([ True]), array([ True]), array([ True]), array([ True]), array([ True]), array([ True]), array([ True]), array([ True]), array([ True]), array([ True]), array([ True]), array([ True]), array([ True]), array([ True]), array([ True]), array([ True]), array([ True]), array([ True]), array([ True]), array([ True]), array([ True]), array([ True]), array([ True]), array([ True]), array([ True]), array([ True]), array([ True]), array([ True]), array([ True]), array([ True]), array([ True]), array([ True]), array([ True]), array([ True]), array([ True]), array([ True]), array([ True]), array([ True]), array([ True]), array([ True]), array([ True]), array([ True]), array([ True]), array([ True]), array([ True]), array([ True]), array([ True]), array([ True]), array([ True]), array([ True]), array([ True]), array([ True]), array([ True]), array([ True]), array([ True]), array([ True]), array([ True]), array([ True]), array([ True]), array([ True]), array([ True]), array([ True]), array([ True]), array([ True]), array([ True]), array([ True]), array([ True]), array([ True]), array([ True]), array([ True]), array([ True]), array([ True]), array([ True]), array([ True]), array([ True]), array([ True]), array([ True]), array([ True]), array([ True]), array([ True]), array([ True]), array([ True]), array([ True]), array([ True]), array([ True]), array([ True]), array([ True]), array([ True]), array([ True]), array([ True]), array([ True]), array([ True]), array([ True]), array([ True]), array([ True]), array([ True]), array([ True]), array([ True]), array([ True]), array([ True]), array([ True]), array([ True]), array([ True]), array([ True]), array([ True]), array([ True]), array([ True]), array([ True]), array([ True]), array([ True]), array([ True]), array([ True]), array([ True]), array([ True]), array([ True]), array([ True]), array([ True]), array([ True]), array([ True]), array([ True]), array([ True]), array([ True]), array([ True]), array([ True]), array([ True]), array([ True]), array([ True]), array([ True]), array([ True]), array([ True]), array([ True]), array([ True]), array([ True]), array([False]), array([ True]), array([ True]), array([ True]), array([ True]), array([ True]), array([ True]), array([ True]), array([ True]), array([ True]), array([ True]), array([ True]), array([ True]), array([ True]), array([ True]), array([ True]), array([ True]), array([ True]), array([ True]), array([ True]), array([ True]), array([ True]), array([ True]), array([ True]), array([ True]), array([ True]), array([ True]), array([ True]), array([ True]), array([ True]), array([ True]), array([ True]), array([ True]), array([ True]), array([ True]), array([ True]), array([ True]), array([ True]), array([ True]), array([ True]), array([ True]), array([ True]), array([ True])]\n"
     ]
    }
   ],
   "source": [
    "# Argmax of Probabilities\n",
    "test_dataset_predictions = [i > 0.5 for i in test_dataset_prediction_probabilities]\n",
    "print(test_dataset_predictions)"
   ]
  },
  {
   "cell_type": "code",
   "execution_count": 24,
   "metadata": {},
   "outputs": [
    {
     "name": "stdout",
     "output_type": "stream",
     "text": [
      "              precision    recall  f1-score   support\n",
      "\n",
      "           0       0.97      0.66      0.79       234\n",
      "           1       0.83      0.99      0.90       390\n",
      "\n",
      "    accuracy                           0.87       624\n",
      "   macro avg       0.90      0.82      0.84       624\n",
      "weighted avg       0.88      0.87      0.86       624\n",
      "\n"
     ]
    }
   ],
   "source": [
    "# Generate classification report\n",
    "from sklearn.metrics import classification_report,confusion_matrix\n",
    "print(classification_report(test_gen.classes,test_dataset_predictions))"
   ]
  },
  {
   "cell_type": "code",
   "execution_count": 25,
   "metadata": {},
   "outputs": [
    {
     "data": {
      "text/plain": [
       "array([[155,  79],\n",
       "       [  5, 385]])"
      ]
     },
     "execution_count": 25,
     "metadata": {},
     "output_type": "execute_result"
    },
    {
     "data": {
      "image/png": "[encoded data removed]",
      "text/plain": [
       "<Figure size 300x300 with 2 Axes>"
      ]
     },
     "metadata": {},
     "output_type": "display_data"
    }
   ],
   "source": [
    "# Generate confusion matrix\n",
    "plt.figure(figsize=(3,3))\n",
    "sns.heatmap(confusion_matrix(test_gen.classes,test_dataset_predictions),annot = True, fmt = \"d\", cmap = \"viridis\")\n",
    "confusion_matrix(test_gen.classes,test_dataset_predictions)"
   ]
  },
  {
   "cell_type": "code",
   "execution_count": null,
   "metadata": {},
   "outputs": [],
   "source": [
    "# Manual Testing - Normal\n",
    "from tensorflow.keras.preprocessing import image\n",
    "normal_image = image.load_img('../Dataset/final/test/normal/0103fadb-1663-40a6-8a9e-09d626cd2091.png', target_size=image_shape[:2])\n",
    "normal_image = np.expand_dims(normal_image, axis=1)\n",
    "normal_image = normal_image.reshape(image_shape)\n",
    "normal_image = normal_image / 256\n",
    "plt.imshow(normal_image)\n",
    "prediction = model.predict(normal_image.reshape(1, 224, 224, 3))\n",
    "print(prediction[0][0] > 0.5)"
   ]
  },
  {
   "cell_type": "code",
   "execution_count": null,
   "metadata": {},
   "outputs": [],
   "source": [
    "# Manual Testing - Pneumonia\n",
    "from tensorflow.keras.preprocessing import image\n",
    "positive_image = image.load_img('../Dataset/final/test/pneumonia/MIDRC-RICORD-1C-419639-000025-17477-0.png', target_size=image_shape[:2])\n",
    "positive_image = np.expand_dims(positive_image, axis=1)\n",
    "positive_image = positive_image.reshape(image_shape)\n",
    "positive_image = positive_image / 256\n",
    "plt.imshow(positive_image)\n",
    "prediction = model.predict(positive_image.reshape(1, 224, 224, 3))\n",
    "print(prediction[0][0] > 0.5)"
   ]
  }
 ],
 "metadata": {
  "kernelspec": {
   "display_name": "env",
   "language": "python",
   "name": "python3"
  },
  "language_info": {
   "codemirror_mode": {
    "name": "ipython",
    "version": 3
   },
   "file_extension": ".py",
   "mimetype": "text/x-python",
   "name": "python",
   "nbconvert_exporter": "python",
   "pygments_lexer": "ipython3",
   "version": "3.10.12"
  },
  "orig_nbformat": 4
 },
 "nbformat": 4,
 "nbformat_minor": 2
}
